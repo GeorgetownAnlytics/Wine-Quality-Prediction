{
 "cells": [
  {
   "cell_type": "markdown",
   "metadata": {},
   "source": [
    "# Assignment 02 – Generative and Non-Generative Methods Final Version"
   ]
  },
  {
   "cell_type": "markdown",
   "metadata": {},
   "source": [
    "#### Team 8 - Jiazu Zhang - jz944\n",
    "#### Team 8 - Mengjia Wei - mw1296\n",
    "#### Team 8 - Ahmed Khair - afk46"
   ]
  },
  {
   "cell_type": "markdown",
   "id": "56cc69a4",
   "metadata": {},
   "source": [
    "# 1. Load the dataset. (1)\n",
    "## Load the csv file as a pandas data frame. And display the first six points "
   ]
  },
  {
   "cell_type": "code",
   "execution_count": 3,
   "id": "0a9ec6dd",
   "metadata": {},
   "outputs": [],
   "source": [
    "import random\n",
    "from seaborn.palettes import color_palette\n",
    "random.seed(9001)\n",
    "from sklearn.datasets import load_breast_cancer\n",
    "import matplotlib.pyplot as plt\n",
    "import seaborn as sns\n",
    "import numpy as np\n",
    "import pandas as pd\n",
    "from sklearn.model_selection import train_test_split\n",
    "\n",
    "CC= pd.read_csv(\"datasets/creditcard.csv\",header=0)\n"
   ]
  },
  {
   "cell_type": "markdown",
   "id": "c74de629",
   "metadata": {},
   "source": [
    "# 2.\tShow first 6 data points using head(). (1) "
   ]
  },
  {
   "cell_type": "code",
   "execution_count": null,
   "id": "83b9bcaa",
   "metadata": {},
   "outputs": [],
   "source": [
    "CC.head(6)"
   ]
  },
  {
   "cell_type": "markdown",
   "id": "1eb948f4",
   "metadata": {},
   "source": [
    "# 3."
   ]
  },
  {
   "cell_type": "markdown",
   "id": "16c0b79f",
   "metadata": {},
   "source": [
    "# 4."
   ]
  },
  {
   "cell_type": "markdown",
   "id": "fb365de8",
   "metadata": {},
   "source": [
    "# 5."
   ]
  },
  {
   "cell_type": "markdown",
   "id": "bf592ea0",
   "metadata": {},
   "source": [
    "# 6."
   ]
  },
  {
   "cell_type": "markdown",
   "id": "1f029280",
   "metadata": {},
   "source": [
    "## 7. Perform classification routine by using LogisticRegression(), KNeighborsClassifier(),  DecisionTreeClassifier(), SVC(), GaussianNB(), RandomForestClassifier(), BaggingClassifier(), GradientBoostingClassifier(), XGboostclassifier. Output the accuracy box plot as we have seen in the class (make sure to change regressmod df to classmod. And use an appropriate metric for classification evaluation, for example, accuracy, precision,recall etc). Remember to use the object oriented approach and develop a function (def…), this will be very helpful for the next assignment. (40)"
   ]
  },
  {
   "cell_type": "code",
   "execution_count": 4,
   "id": "644665d3",
   "metadata": {},
   "outputs": [],
   "source": [
    "# split train and test dataset\n",
    "CC_X = CC.loc[:, CC.columns != 'Class'].to_numpy()\n",
    "CC_y = CC.loc[:, CC.columns == 'Class'].to_numpy()\n",
    "CCX_train, CCX_test, CCy_train, CCy_test = train_test_split(CC_X,CC_y, test_size=0.30, random_state=0, )"
   ]
  },
  {
   "cell_type": "markdown",
   "id": "5590743b",
   "metadata": {},
   "source": [
    "### 7.0 import models"
   ]
  },
  {
   "cell_type": "code",
   "execution_count": 10,
   "id": "29c596fa",
   "metadata": {},
   "outputs": [],
   "source": [
    "from sklearn.linear_model import LinearRegression\n",
    "from sklearn.neighbors import KNeighborsClassifier\n",
    "from sklearn import svm\n",
    "from sklearn.tree import DecisionTreeRegressor\n",
    "from sklearn.ensemble import GradientBoostingRegressor, BaggingRegressor, RandomForestRegressor, StackingRegressor\n",
    "from sklearn.naive_bayes import GaussianNB\n",
    "from sklearn.model_selection import cross_val_score, RepeatedKFold\n",
    "\n",
    "#!pip install xgboost\n",
    "# install xgboost module from pip\n",
    "import xgboost\n",
    "#import xgboost \n",
    "from xgboost import XGBClassifier\n",
    "#import xgboostclassifier\n"
   ]
  },
  {
   "cell_type": "markdown",
   "id": "daf21c2e",
   "metadata": {},
   "source": [
    "### 7.1 Build model funtions\n"
   ]
  },
  {
   "cell_type": "code",
   "execution_count": 11,
   "id": "b35613e5",
   "metadata": {},
   "outputs": [],
   "source": [
    "# list of models\n",
    "def base_models():\n",
    "    models = dict()\n",
    "    models['lr'] = LinearRegression()\n",
    "    models[\"KN\"] = KNeighborsClassifier()\n",
    "    models[\"SVC\"] = svm.SVC()\n",
    "    models[\"Tree\"] = DecisionTreeRegressor()\n",
    "    models[\"Random Forest\"] = RandomForestRegressor()\n",
    "    models[\"Bagging\"] = BaggingRegressor()\n",
    "    models[\"GBM\"] = GradientBoostingRegressor()\n",
    "    models[\"GNB\"] = GaussianNB()\n",
    "    models[\"XGB\"] = XGBClassifier()\n",
    "    return models\n",
    "\n",
    "# Function to evaluate the list of models\n",
    "def eval_models(model):\n",
    "    cv = RepeatedKFold(n_splits=10, n_repeats=3, random_state=1)\n",
    "    scores = -cross_val_score(model, CCX_train, CCy_train, scoring='neg_mean_absolute_error', cv=cv, n_jobs=-1, error_score='raise')\n",
    "    return scores\n",
    "\n",
    "# evaluate the models and print results\n",
    "models = base_models()\n",
    "results, names = list(), list() \n",
    "for name, model in models.items():\n",
    "  scores = eval_models(model)\n",
    "  results.append(scores)\n",
    "  names.append(name)\n",
    "  print('>%s %.3f (%.3f)' % (name, scores.mean(), scores.std()))\n",
    "\n",
    "# store results in dataframe\n",
    "classmod = pd.DataFrame(np.transpose(results), columns = [\"lr\",\"KN\",\"SVC\",\"Tree\",\"Random Forest\",\"Bagging\",\"GBM\", \"GNB\",\"XGB\"])\n",
    "classmod = pd.melt(classmod.reset_index(), id_vars='index',value_vars=[\"lr\",\"KN\",\"SVC\",\"Tree\",\"Random Forest\",\"Bagging\",\"GBM\", \"GNB\",\"XGB\"])"
   ]
  },
  {
   "attachments": {},
   "cell_type": "markdown",
   "id": "e4cc5cac",
   "metadata": {},
   "source": [
    "### 7.2 Graph the accuracy plots"
   ]
  },
  {
   "cell_type": "code",
   "execution_count": 14,
   "id": "a6158eb0",
   "metadata": {},
   "outputs": [
    {
     "name": "stdout",
     "output_type": "stream",
     "text": [
      "Collecting plotly\n",
      "  Downloading plotly-5.17.0-py2.py3-none-any.whl (15.6 MB)\n",
      "Collecting tenacity>=6.2.0\n",
      "  Downloading tenacity-8.2.3-py3-none-any.whl (24 kB)\n",
      "Requirement already satisfied: packaging in c:\\users\\mwei\\anaconda3\\lib\\site-packages (from plotly) (21.0)\n",
      "Requirement already satisfied: pyparsing>=2.0.2 in c:\\users\\mwei\\anaconda3\\lib\\site-packages (from packaging->plotly) (3.0.4)\n",
      "Installing collected packages: tenacity, plotly\n",
      "Successfully installed plotly-5.17.0 tenacity-8.2.3\n"
     ]
    }
   ],
   "source": [
    "!pip3 install plotly\n",
    "import plotly.express as px\n",
    "from plotly.subplots import make_subplots\n",
    "import plotly.graph_objs as go\n",
    "\n",
    "fig = px.box(classmod, x=\"variable\", y=\"value\",color=\"variable\",points='all',\n",
    "labels={\"variable\": \"Machine Learning Model\",\n",
    "        \"value\": \"RMS Error\"\n",
    "        },title=\"Model Performance\")\n",
    "fig.show()"
   ]
  },
  {
   "cell_type": "markdown",
   "id": "0dfbcfde",
   "metadata": {},
   "source": [
    "## 8. Select the best classifier for level o classifier. Use logistic regression as a second level classifier.  Similar to 7 generate the box plot and show the accuracy of each algorithm as well as stacked classifier. Also show the confusion metrices of the above algorithms .(15)"
   ]
  },
  {
   "cell_type": "markdown",
   "id": "2c8128e5",
   "metadata": {},
   "source": [
    "## 9. Export the Pickle model and import it back. Use the imported model to predic the y_test from x_test and report the confusion metrix (3)"
   ]
  },
  {
   "cell_type": "markdown",
   "id": "8dd188f8",
   "metadata": {},
   "source": [
    "## 10. Show both text and visual confusion Matrices using scikit learn and matplotlib and explain what the graph tells you and what you did. (2)"
   ]
  }
 ],
 "metadata": {
  "kernelspec": {
   "display_name": "Python 3.9.7 ('base')",
   "language": "python",
   "name": "python3"
  },
  "language_info": {
   "codemirror_mode": {
    "name": "ipython",
    "version": 3
   },
   "file_extension": ".py",
   "mimetype": "text/x-python",
   "name": "python",
   "nbconvert_exporter": "python",
   "pygments_lexer": "ipython3",
   "version": "3.9.7"
  },
  "vscode": {
   "interpreter": {
    "hash": "e5b54dc8cfc0f758027ac3afcc34cd6465583afb91def7f888702534d3bb311d"
   }
  }
 },
 "nbformat": 4,
 "nbformat_minor": 5
}
